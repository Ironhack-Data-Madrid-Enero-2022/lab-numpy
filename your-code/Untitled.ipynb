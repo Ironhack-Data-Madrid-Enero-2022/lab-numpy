{
 "cells": [
  {
   "cell_type": "code",
   "execution_count": 1,
   "id": "97b24a4e",
   "metadata": {},
   "outputs": [],
   "source": [
    "import numpy as np\n"
   ]
  },
  {
   "cell_type": "code",
   "execution_count": 6,
   "id": "0bcf49a8",
   "metadata": {},
   "outputs": [
    {
     "data": {
      "text/plain": [
       "array([[[3.38441719e-01, 8.97076145e-03, 3.15730257e-01, 1.54035395e-01,\n",
       "         8.61249809e-01],\n",
       "        [3.62030222e-01, 4.36635932e-01, 2.59512547e-01, 9.97900035e-01,\n",
       "         1.72948654e-01],\n",
       "        [5.73544428e-01, 2.22014645e-01, 2.92385456e-01, 1.06518658e-01,\n",
       "         7.13068160e-01]],\n",
       "\n",
       "       [[6.13415936e-01, 5.26127240e-01, 6.91990176e-01, 4.30191790e-01,\n",
       "         5.35734771e-01],\n",
       "        [6.22115125e-01, 3.92722306e-01, 9.32885557e-05, 3.60096466e-01,\n",
       "         9.64740246e-01],\n",
       "        [7.47934089e-02, 3.05673896e-01, 1.02903441e-01, 4.62049003e-01,\n",
       "         4.55167767e-02]]])"
      ]
     },
     "execution_count": 6,
     "metadata": {},
     "output_type": "execute_result"
    }
   ],
   "source": [
    "a = np.random.random(size=(2,3,5))\n",
    "a"
   ]
  },
  {
   "cell_type": "code",
   "execution_count": 3,
   "id": "a370f275",
   "metadata": {},
   "outputs": [
    {
     "data": {
      "text/plain": [
       "0.37537352148955216"
      ]
     },
     "execution_count": 3,
     "metadata": {},
     "output_type": "execute_result"
    }
   ],
   "source": [
    "np.random.random()"
   ]
  },
  {
   "cell_type": "code",
   "execution_count": 8,
   "id": "2277d114",
   "metadata": {},
   "outputs": [
    {
     "data": {
      "text/plain": [
       "array([[[0.17984252, 0.15115371, 0.34848211, 0.52976808, 0.55915387],\n",
       "        [0.13027021, 0.75272914, 0.95035726, 0.29969737, 0.66988488],\n",
       "        [0.06604998, 0.85706644, 0.77366135, 0.56670951, 0.56946374]],\n",
       "\n",
       "       [[0.57436302, 0.80005093, 0.08416949, 0.48930485, 0.39377062],\n",
       "        [0.10499631, 0.49694593, 0.31487701, 0.33140939, 0.12812411],\n",
       "        [0.84657517, 0.98062036, 0.20041548, 0.95162855, 0.44985349]]])"
      ]
     },
     "execution_count": 8,
     "metadata": {},
     "output_type": "execute_result"
    }
   ],
   "source": [
    "a =np.array([[[np.random.random() for i in range(5)]for ii in range(3)]for iii in range(2)])\n",
    "a"
   ]
  },
  {
   "cell_type": "code",
   "execution_count": 10,
   "id": "f37d46ee",
   "metadata": {},
   "outputs": [
    {
     "data": {
      "text/plain": [
       "array([[[1., 1., 1.],\n",
       "        [1., 1., 1.]],\n",
       "\n",
       "       [[1., 1., 1.],\n",
       "        [1., 1., 1.]],\n",
       "\n",
       "       [[1., 1., 1.],\n",
       "        [1., 1., 1.]],\n",
       "\n",
       "       [[1., 1., 1.],\n",
       "        [1., 1., 1.]],\n",
       "\n",
       "       [[1., 1., 1.],\n",
       "        [1., 1., 1.]]])"
      ]
     },
     "execution_count": 10,
     "metadata": {},
     "output_type": "execute_result"
    }
   ],
   "source": [
    "b = np.ones(shape=(5,2,3))\n",
    "b"
   ]
  },
  {
   "cell_type": "code",
   "execution_count": 17,
   "id": "ac0f5cbe",
   "metadata": {},
   "outputs": [
    {
     "name": "stdout",
     "output_type": "stream",
     "text": [
      "['T', 'all', 'any', 'argmax', 'argmin', 'argpartition', 'argsort', 'astype', 'base', 'byteswap', 'choose', 'clip', 'compress', 'conj', 'conjugate', 'copy', 'ctypes', 'cumprod', 'cumsum', 'data', 'diagonal', 'dot', 'dtype', 'dump', 'dumps', 'fill', 'flags', 'flat', 'flatten', 'getfield', 'imag', 'item', 'itemset', 'itemsize', 'max', 'mean', 'min', 'nbytes', 'ndim', 'newbyteorder', 'nonzero', 'partition', 'prod', 'ptp', 'put', 'ravel', 'real', 'repeat', 'reshape', 'resize', 'round', 'searchsorted', 'setfield', 'setflags', 'shape', 'size', 'sort', 'squeeze', 'std', 'strides', 'sum', 'swapaxes', 'take', 'tobytes', 'tofile', 'tolist', 'tostring', 'trace', 'transpose', 'var', 'view']\n"
     ]
    }
   ],
   "source": [
    "print(list(i for i in dir(b) if '__' not in i))"
   ]
  },
  {
   "cell_type": "code",
   "execution_count": 23,
   "id": "28f56884",
   "metadata": {},
   "outputs": [
    {
     "name": "stdout",
     "output_type": "stream",
     "text": [
      "30\n",
      "30\n"
     ]
    }
   ],
   "source": [
    "print(b.size)\n",
    "print(a.size)"
   ]
  },
  {
   "cell_type": "code",
   "execution_count": 37,
   "id": "0cb1f198",
   "metadata": {},
   "outputs": [
    {
     "name": "stdout",
     "output_type": "stream",
     "text": [
      "(3, 2, 5)\n",
      "(2, 3, 5)\n"
     ]
    }
   ],
   "source": [
    "print(b.transpose().shape)\n",
    "print(a.shape)"
   ]
  },
  {
   "cell_type": "code",
   "execution_count": 30,
   "id": "b6522e8b",
   "metadata": {},
   "outputs": [
    {
     "name": "stdout",
     "output_type": "stream",
     "text": [
      "Help on built-in function transpose:\n",
      "\n",
      "transpose(...) method of numpy.ndarray instance\n",
      "    a.transpose(*axes)\n",
      "    \n",
      "    Returns a view of the array with axes transposed.\n",
      "    \n",
      "    For a 1-D array this has no effect, as a transposed vector is simply the\n",
      "    same vector. To convert a 1-D array into a 2D column vector, an additional\n",
      "    dimension must be added. `np.atleast2d(a).T` achieves this, as does\n",
      "    `a[:, np.newaxis]`.\n",
      "    For a 2-D array, this is a standard matrix transpose.\n",
      "    For an n-D array, if axes are given, their order indicates how the\n",
      "    axes are permuted (see Examples). If axes are not provided and\n",
      "    ``a.shape = (i[0], i[1], ... i[n-2], i[n-1])``, then\n",
      "    ``a.transpose().shape = (i[n-1], i[n-2], ... i[1], i[0])``.\n",
      "    \n",
      "    Parameters\n",
      "    ----------\n",
      "    axes : None, tuple of ints, or `n` ints\n",
      "    \n",
      "     * None or no argument: reverses the order of the axes.\n",
      "    \n",
      "     * tuple of ints: `i` in the `j`-th place in the tuple means `a`'s\n",
      "       `i`-th axis becomes `a.transpose()`'s `j`-th axis.\n",
      "    \n",
      "     * `n` ints: same as an n-tuple of the same ints (this form is\n",
      "       intended simply as a \"convenience\" alternative to the tuple form)\n",
      "    \n",
      "    Returns\n",
      "    -------\n",
      "    out : ndarray\n",
      "        View of `a`, with axes suitably permuted.\n",
      "    \n",
      "    See Also\n",
      "    --------\n",
      "    transpose : Equivalent function\n",
      "    ndarray.T : Array property returning the array transposed.\n",
      "    ndarray.reshape : Give a new shape to an array without changing its data.\n",
      "    \n",
      "    Examples\n",
      "    --------\n",
      "    >>> a = np.array([[1, 2], [3, 4]])\n",
      "    >>> a\n",
      "    array([[1, 2],\n",
      "           [3, 4]])\n",
      "    >>> a.transpose()\n",
      "    array([[1, 3],\n",
      "           [2, 4]])\n",
      "    >>> a.transpose((1, 0))\n",
      "    array([[1, 3],\n",
      "           [2, 4]])\n",
      "    >>> a.transpose(1, 0)\n",
      "    array([[1, 3],\n",
      "           [2, 4]])\n",
      "\n"
     ]
    }
   ],
   "source": [
    "help(b.transpose)"
   ]
  },
  {
   "cell_type": "code",
   "execution_count": 39,
   "id": "ef78a422",
   "metadata": {},
   "outputs": [],
   "source": [
    "#3. Generate a 2x3x5 3-dimensional array with random values. Assign the array to variable \"a\",\n",
    "# Challenge: there are at least three easy ways that use numpy to generate random arrays. How many ways can you find?\n",
    "a = np.random.random(size=(2,3,5)) # La mas facil\n",
    "a_1 = np.array([[[np.random.random() for i in range(5)]for ii in range(3)]for iii in range(2)]) # Usando list comprehension\n",
    "\n",
    "# can't thing of a third way \n",
    "\n",
    "#5. Create a 5x2x3 3-dimensional array with all values equaling 1.\n",
    "#Assign the array to variable \"b\"\n",
    "b = np.ones(shape=(5,2,3))\n",
    "\n",
    "\n",
    "\n",
    "\n",
    "#7. Do a and b have the same size? How do you prove that in Python code?\n",
    "# They have diferents shapes but should have the same size, let's check it,\n",
    "\n",
    "\n",
    "#8. Are you able to add a and b? Why or why not?\n",
    "# No, they have different shapes so you shouldn't be able to add a and b,\n",
    "#9. Transpose b so that it has the same structure of a (i.e. become a 2x3x5 array). Assign the transposed array to varialbe \"c\".\n",
    "c = b.transpose(1,2,0) \n",
    "\n",
    "#10. Try to add a and c. Now it should work. Assign the sum to varialbe \"d\". But why does it work now?\n",
    "try: \n",
    "        d = a+c\n",
    "        #print('a+c= ', d) # now we can add them as they have the same shape \n",
    "except ValueError:\n",
    "        print(f'Can not add a and c as they have different shapes. Shape of a: {a.shape}, shape of c: {c.shape}.')\n",
    "\n",
    "#11. Print a and d. Notice the difference and relation of the two array in terms of the values? Explain.\n",
    "\n",
    "#12. Multiply a and c. Assign the result to e.\n",
    "e = a*c\n",
    "#14. Identify the max, min, and mean values in d. Assign those values to variables \"d_max\", \"d_min\", and \"d_mean\"\n",
    "\n",
    "d_max = d.max()\n",
    "d_min = d.min()\n",
    "d_mean = d.mean()\n",
    "\n",
    "#15. Now we want to label the values in d. First create an empty array \"f\" with the same shape (i.e. 2x3x5) as d using `np.empty`.\n",
    "f = np.empty(shape=(2,3,5))\n",
    "\n"
   ]
  },
  {
   "cell_type": "code",
   "execution_count": 57,
   "id": "cb9f8678",
   "metadata": {},
   "outputs": [
    {
     "name": "stdout",
     "output_type": "stream",
     "text": [
      "(2, 3, 5)\n"
     ]
    }
   ],
   "source": [
    "print(f.shape)"
   ]
  },
  {
   "cell_type": "code",
   "execution_count": 58,
   "id": "5530f671",
   "metadata": {},
   "outputs": [
    {
     "name": "stdout",
     "output_type": "stream",
     "text": [
      "[[[7.50000000e+01 1.70929143e+00 1.76109021e+00 1.86534411e+00\n",
      "   1.60470174e+00]\n",
      "  [2.50000000e+01 6.71313957e-02 2.63219072e-01 7.34943100e-01\n",
      "   4.05182985e-01]\n",
      "  [2.50000000e+01 8.51451974e-02 3.53468720e-01 7.28049057e-01\n",
      "   6.48232472e-01]]\n",
      "\n",
      " [[7.50000000e+01 7.65283805e-02 3.58049156e-01 2.10216567e-01\n",
      "   3.27994438e-01]\n",
      "  [7.50000000e+01 4.34005152e-01 2.90468753e-01 8.10054437e-01\n",
      "   6.02541360e-01]\n",
      "  [2.50000000e+01 2.63774538e-01 9.96696166e-01 8.42970939e-01\n",
      "   2.73800358e-02]]]\n"
     ]
    }
   ],
   "source": [
    "i , j, k = -1 , -1 , -1 \n",
    "for Dim1 in d:\n",
    "    i += 1\n",
    "    for  Dim2 in Dim1:\n",
    "        j += 1\n",
    "        for ele in Dim2:\n",
    "            k += 1\n",
    "            if d_min < ele < d_mean:\n",
    "                f[i][j][k] = 25\n",
    "            elif d_mean < ele < d_max:\n",
    "                f[i][j][k] = 75\n",
    "            elif ele == d_mean:\n",
    "                f[i][j][k] = 50\n",
    "            elif ele == d_min:\n",
    "                f[i][j][k] = 0\n",
    "            elif ele == d_max:\n",
    "                f[i][j][k] = 100\n",
    "            k = -1\n",
    "    j = -1\n",
    "    \n",
    "print(f)"
   ]
  },
  {
   "cell_type": "code",
   "execution_count": null,
   "id": "bccd5340",
   "metadata": {},
   "outputs": [],
   "source": []
  },
  {
   "cell_type": "code",
   "execution_count": null,
   "id": "9b88dfb9",
   "metadata": {},
   "outputs": [],
   "source": []
  },
  {
   "cell_type": "code",
   "execution_count": null,
   "id": "facfe823",
   "metadata": {},
   "outputs": [],
   "source": []
  }
 ],
 "metadata": {
  "kernelspec": {
   "display_name": "ironhack",
   "language": "python",
   "name": "ironhack"
  },
  "language_info": {
   "codemirror_mode": {
    "name": "ipython",
    "version": 3
   },
   "file_extension": ".py",
   "mimetype": "text/x-python",
   "name": "python",
   "nbconvert_exporter": "python",
   "pygments_lexer": "ipython3",
   "version": "3.8.5"
  }
 },
 "nbformat": 4,
 "nbformat_minor": 5
}
