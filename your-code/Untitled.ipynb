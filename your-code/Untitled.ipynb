{
 "cells": [
  {
   "cell_type": "code",
   "execution_count": 221,
   "id": "8a4d8d9f",
   "metadata": {},
   "outputs": [],
   "source": [
    "import pandas as pd\n"
   ]
  },
  {
   "cell_type": "code",
   "execution_count": 222,
   "id": "b5e855b5",
   "metadata": {},
   "outputs": [],
   "source": [
    "import numpy as np"
   ]
  },
  {
   "cell_type": "code",
   "execution_count": 223,
   "id": "b842a466",
   "metadata": {},
   "outputs": [
    {
     "name": "stdout",
     "output_type": "stream",
     "text": [
      "[[[0.21244631 0.50830658 0.13074858 0.63438582 0.62322185]\n",
      "  [0.58802629 0.41584101 0.24927985 0.53481857 0.47820442]\n",
      "  [0.56104291 0.35490614 0.82777268 0.61692704 0.18160294]]\n",
      "\n",
      " [[0.21582824 0.03868271 0.88500024 0.05012774 0.68318311]\n",
      "  [0.73511714 0.44341241 0.81081787 0.81684801 0.13822353]\n",
      "  [0.21007504 0.64976996 0.10536429 0.78916659 0.63209795]]]\n"
     ]
    }
   ],
   "source": [
    "a = np.random.random((2,3,5))\n",
    "print(a)"
   ]
  },
  {
   "cell_type": "code",
   "execution_count": 224,
   "id": "4f49d472",
   "metadata": {},
   "outputs": [
    {
     "data": {
      "text/plain": [
       "(2, 3, 5)"
      ]
     },
     "execution_count": 224,
     "metadata": {},
     "output_type": "execute_result"
    }
   ],
   "source": [
    "a.shape\n"
   ]
  },
  {
   "cell_type": "code",
   "execution_count": 225,
   "id": "79755bdd",
   "metadata": {},
   "outputs": [
    {
     "data": {
      "text/plain": [
       "(5, 2, 3)"
      ]
     },
     "execution_count": 225,
     "metadata": {},
     "output_type": "execute_result"
    }
   ],
   "source": [
    "b.shape"
   ]
  },
  {
   "cell_type": "code",
   "execution_count": 226,
   "id": "ece592ba",
   "metadata": {},
   "outputs": [
    {
     "data": {
      "text/plain": [
       "array([[[1., 1., 1., 1., 1.],\n",
       "        [1., 1., 1., 1., 1.],\n",
       "        [1., 1., 1., 1., 1.]],\n",
       "\n",
       "       [[1., 1., 1., 1., 1.],\n",
       "        [1., 1., 1., 1., 1.],\n",
       "        [1., 1., 1., 1., 1.]]])"
      ]
     },
     "execution_count": 226,
     "metadata": {},
     "output_type": "execute_result"
    }
   ],
   "source": [
    "c = b.transpose(1,2,0)\n",
    "c"
   ]
  },
  {
   "cell_type": "code",
   "execution_count": 227,
   "id": "9a995f0c",
   "metadata": {},
   "outputs": [
    {
     "name": "stdout",
     "output_type": "stream",
     "text": [
      "[[[0.21244631 0.50830658 0.13074858 0.63438582 0.62322185]\n",
      "  [0.58802629 0.41584101 0.24927985 0.53481857 0.47820442]\n",
      "  [0.56104291 0.35490614 0.82777268 0.61692704 0.18160294]]\n",
      "\n",
      " [[0.21582824 0.03868271 0.88500024 0.05012774 0.68318311]\n",
      "  [0.73511714 0.44341241 0.81081787 0.81684801 0.13822353]\n",
      "  [0.21007504 0.64976996 0.10536429 0.78916659 0.63209795]]]\n"
     ]
    }
   ],
   "source": [
    "print(a)"
   ]
  },
  {
   "cell_type": "code",
   "execution_count": null,
   "id": "ba01bedd",
   "metadata": {},
   "outputs": [],
   "source": []
  },
  {
   "cell_type": "code",
   "execution_count": 228,
   "id": "f86dad14",
   "metadata": {},
   "outputs": [
    {
     "data": {
      "text/plain": [
       "array([[[0.75782995, 0.35641663, 0.84400035, 0.2901856 , 0.25465543],\n",
       "        [0.97832219, 0.46121397, 0.24592745, 0.50699349, 0.46625787],\n",
       "        [0.7582699 , 0.70705067, 0.99314309, 0.80048535, 0.98273344]],\n",
       "\n",
       "       [[0.72091365, 0.83255083, 0.96379847, 0.70255472, 0.51132975],\n",
       "        [0.59423894, 0.15918647, 0.90163304, 0.36916794, 0.68104819],\n",
       "        [0.37484758, 0.01632901, 0.6092948 , 0.21461584, 0.94938717]]])"
      ]
     },
     "execution_count": 228,
     "metadata": {},
     "output_type": "execute_result"
    }
   ],
   "source": [
    "a = np.random.random((2,3,5))\n",
    "a"
   ]
  },
  {
   "cell_type": "code",
   "execution_count": 229,
   "id": "dbcf6c37",
   "metadata": {},
   "outputs": [],
   "source": [
    "d_min = d.min()"
   ]
  },
  {
   "cell_type": "code",
   "execution_count": null,
   "id": "f0a46ba3",
   "metadata": {},
   "outputs": [],
   "source": []
  },
  {
   "cell_type": "code",
   "execution_count": 230,
   "id": "66d25f16",
   "metadata": {},
   "outputs": [],
   "source": [
    "d_max = d.max()"
   ]
  },
  {
   "cell_type": "code",
   "execution_count": 231,
   "id": "0111ac8e",
   "metadata": {},
   "outputs": [],
   "source": [
    "d_mean = d.mean()"
   ]
  },
  {
   "cell_type": "code",
   "execution_count": 258,
   "id": "6738b2b3",
   "metadata": {},
   "outputs": [],
   "source": [
    "f = np.empty((2,3,5))"
   ]
  },
  {
   "cell_type": "code",
   "execution_count": 268,
   "id": "a5b198ab",
   "metadata": {},
   "outputs": [],
   "source": [
    "for x in range(2):\n",
    "    for y in range (3):\n",
    "        for i in range(5):\n",
    "            if d_min < d[x,y,i] < d_mean:\n",
    "                f[x,y,i] = 25\n",
    "            elif d_mean < d[x,y,i] < d_max:\n",
    "                f[x,y,i] = 75\n",
    "            elif d[x,y,i] == d_mean:\n",
    "                f[x,y,i] = 50\n",
    "            elif d[x,y,i] == d_min:\n",
    "                f[x,y,i] = 0\n",
    "            elif d[x,y,i] == d_max:\n",
    "                f[x,y,i] = 100                   "
   ]
  },
  {
   "cell_type": "code",
   "execution_count": 269,
   "id": "baac0724",
   "metadata": {},
   "outputs": [
    {
     "name": "stdout",
     "output_type": "stream",
     "text": [
      "[[[ 75.  75.  25.  25.  25.]\n",
      "  [ 75. 100.  75.  25.  25.]\n",
      "  [ 25.  25.  25.  75.  25.]]\n",
      "\n",
      " [[ 75.  25.  25.  25.  75.]\n",
      "  [ 75.  75.  75.  75.  75.]\n",
      "  [ 25.  25.  25.   0.  75.]]]\n"
     ]
    }
   ],
   "source": [
    "print(f)"
   ]
  },
  {
   "cell_type": "code",
   "execution_count": 290,
   "id": "9fefbf10",
   "metadata": {},
   "outputs": [],
   "source": [
    "g = np.empty((2,3,5), str)"
   ]
  },
  {
   "cell_type": "code",
   "execution_count": null,
   "id": "1ebf9874",
   "metadata": {},
   "outputs": [],
   "source": [
    "\n"
   ]
  },
  {
   "cell_type": "code",
   "execution_count": 291,
   "id": "575bed33",
   "metadata": {},
   "outputs": [],
   "source": [
    "for x in range(2):\n",
    "    for y in range (3):\n",
    "        for i in range(5):\n",
    "            if f[x,y,i] == 0:\n",
    "                g[x,y,i] = \"A\"\n",
    "            elif f[x,y,i] == 25:\n",
    "                g[x,y,i] = \"B\"\n",
    "            elif f[x,y,i] == 50:\n",
    "                g[x,y,i] = \"C\"\n",
    "            elif f[x,y,i] == 75:\n",
    "                g[x,y,i] = \"D\"\n",
    "            elif f[x,y,i] == 100:\n",
    "                g[x,y,i] = \"E\""
   ]
  },
  {
   "cell_type": "code",
   "execution_count": 292,
   "id": "fbf0f96a",
   "metadata": {},
   "outputs": [
    {
     "name": "stdout",
     "output_type": "stream",
     "text": [
      "[[['D' 'D' 'B' 'B' 'B']\n",
      "  ['D' 'E' 'D' 'B' 'B']\n",
      "  ['B' 'B' 'B' 'D' 'B']]\n",
      "\n",
      " [['D' 'B' 'B' 'B' 'D']\n",
      "  ['D' 'D' 'D' 'D' 'D']\n",
      "  ['B' 'B' 'B' 'A' 'D']]]\n"
     ]
    }
   ],
   "source": [
    "print(g)"
   ]
  },
  {
   "cell_type": "code",
   "execution_count": 193,
   "id": "45a06f6f",
   "metadata": {},
   "outputs": [
    {
     "name": "stdout",
     "output_type": "stream",
     "text": [
      "[[11 12 13 14]\n",
      " [13 14 15 19]]\n",
      "[[11 12 13 14]\n",
      " [13 14 15 19]]\n",
      "[[11 12 13 14]\n",
      " [13 14 15 19]]\n"
     ]
    }
   ],
   "source": [
    "for x in arr3:\n",
    "    print(arr3[0])"
   ]
  },
  {
   "cell_type": "code",
   "execution_count": null,
   "id": "1e9fed13",
   "metadata": {},
   "outputs": [],
   "source": []
  }
 ],
 "metadata": {
  "kernelspec": {
   "display_name": "ironhack",
   "language": "python",
   "name": "ironhack"
  },
  "language_info": {
   "codemirror_mode": {
    "name": "ipython",
    "version": 3
   },
   "file_extension": ".py",
   "mimetype": "text/x-python",
   "name": "python",
   "nbconvert_exporter": "python",
   "pygments_lexer": "ipython3",
   "version": "3.8.10"
  }
 },
 "nbformat": 4,
 "nbformat_minor": 5
}
